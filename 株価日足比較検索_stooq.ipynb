{
  "nbformat": 4,
  "nbformat_minor": 0,
  "metadata": {
    "colab": {
      "name": "株価日足比較検索_stooq.ipynb",
      "provenance": [],
      "collapsed_sections": [],
      "authorship_tag": "ABX9TyOw41A5ChS4ebcH1NQbg0bS",
      "include_colab_link": true
    },
    "kernelspec": {
      "name": "python3",
      "display_name": "Python 3"
    },
    "language_info": {
      "name": "python"
    }
  },
  "cells": [
    {
      "cell_type": "markdown",
      "metadata": {
        "id": "view-in-github",
        "colab_type": "text"
      },
      "source": [
        "<a href=\"https://colab.research.google.com/github/drppdrpp/drppdrpp.github.io/blob/master/%E6%A0%AA%E4%BE%A1%E6%97%A5%E8%B6%B3%E6%AF%94%E8%BC%83%E6%A4%9C%E7%B4%A2_stooq.ipynb\" target=\"_parent\"><img src=\"https://colab.research.google.com/assets/colab-badge.svg\" alt=\"Open In Colab\"/></a>"
      ]
    },
    {
      "cell_type": "code",
      "execution_count": 120,
      "metadata": {
        "cellView": "form",
        "id": "xmdQuubhHH-m"
      },
      "outputs": [],
      "source": [
        "#@title ① import関連\n",
        "import pandas as pd\n",
        "from pandas_datareader.stooq import StooqDailyReader\n",
        "from datetime import datetime as dt\n",
        "from datetime import date, datetime\n"
      ]
    },
    {
      "cell_type": "code",
      "source": [
        "#@title ② 実行する (年、月、日、銘柄コードを入力) 　※api上、最新のデータは一昨日までしかない { display-mode: \"code\" }\n",
        "# https://ja.visual-foxpro-programmer.com/how-can-i-hide-cell-contents-google-colaboratory\n",
        "# 日付22,2,16 と銘柄コード3688として各々変数へ格納する\n",
        "input_var = input('▤始▤ 年、月、日、銘柄コードをつなげて、10桁入力してください (例: 2202163688) → ')\n",
        "input_end_var = input('▤終▤ 年、月、日をつなげて、 6桁入力してください (例: 220217)　　　　　　     → ')\n",
        "\n",
        "# 銘柄コードをスライス\n",
        "input_code = input_var[6:]\n",
        "# 日付をスライス\n",
        "input_date = input_var[:6]\n",
        "# 三桁目が0なら0を\n",
        "if input_date[2:3] == '0':\n",
        "  year = int('20' + input_date[:2])\n",
        "  month = int(input_date[3:4])\n",
        "  day = int(input_date[4:])\n",
        "else:\n",
        "  year = int('20' + input_date[:2])\n",
        "  month = int(input_date[2:4])\n",
        "  day = int(input_date[4:])\n",
        "\n",
        "# 日付をスライス\n",
        "input_end_date = input_end_var[:6]\n",
        "# 三桁目が0なら0を\n",
        "if input_end_date[2:3] == '0':\n",
        "  end_year = int('20' + input_end_date[:2])\n",
        "  end_month = int(input_end_date[3:4])\n",
        "  end_day = int(input_end_date[4:])\n",
        "else:\n",
        "  end_year = int('20' + input_end_date[:2])\n",
        "  end_month = int(input_end_date[2:4])\n",
        "  end_day = int(input_end_date[4:])\n",
        "\n",
        "start = datetime(year, month, day)\n",
        "end = datetime(end_year,end_month,  end_day)\n",
        "brand = input_code + '.JP'\n",
        "\n",
        "stooq = StooqDailyReader(brand, start=start, end=end)\n",
        "data = stooq.read()  # pandas.core.frame.DataFrame\n",
        "data = data.sort_values('Date', ascending=True)\n",
        "\n",
        "# 注意：指数表記になってしまった場合、桁がe+として省略されてしまう以下で変更\n",
        "# pd.options.display.float_format = '{:.2f}'.format #小数点を二桁までに設定 https://note.nkmk.me/python-pandas-option-display/\n",
        "data['始終%'] = (data['Close'] - data['Open']) / data['Open'] * 100\n",
        "data['初日始値から毎終値%'] = (data['Close'] - data.loc[start,'Open']) / data.loc[start,'Open'] * 100\n",
        "print(data)\n",
        "\n",
        "print('----------------------------------------------------------------------------------------')\n",
        "\n",
        "#全何日なのか\n",
        "count_all_days = end - start\n",
        "all_days_percent = (data.loc[end,'Open'] - data.loc[start,'Open']) /  data.loc[start,'Open'] * 100\n",
        "print(f'初日の始値から最終日の始値まで {all_days_percent:.2f}% 初日を0日として最終日を入れて 全{count_all_days.days}日(土日祝含む)')\n",
        "\n",
        "#初日始値とcloseの最大が何日目なのか\n",
        "max_after_day = data['Close'].idxmax()\n",
        "max_after_day_in_format = max_after_day.strftime('%Y/%m/%d')\n",
        "max_after_days = max_after_day - start\n",
        "max_percent = data['初日始値から毎終値%'].max()\n",
        "print(f'初日の始値から各終値の最高値   {max_percent:.2f}% 初日を0日として {max_after_days.days}日後({max_after_day_in_format})')\n",
        "\n",
        "#初日始値とcloseの最低が何日目なのか\n",
        "min_after_day = data['Close'].idxmin()\n",
        "min_after_day_in_format = min_after_day.strftime('%Y/%m/%d')\n",
        "min_after_days = min_after_day - start\n",
        "min_percent = data['初日始値から毎終値%'].min()\n",
        "print(f'初日の始値から各終値の最低値   {min_percent:.2f}% 初日を0日として {min_after_days.days}日後({min_after_day_in_format})')\n",
        "\n",
        "print('----------------------------------------------------------------------------------------')"
      ],
      "metadata": {
        "id": "mS9uX5YiHrrg"
      },
      "execution_count": null,
      "outputs": []
    },
    {
      "cell_type": "code",
      "source": [
        "#@title オプション: ローソクの出力\n",
        "import numpy as np\n",
        "import plotly.graph_objects as go\n",
        "\n",
        "def plot_chart(df):\n",
        "    x = np.arange(df.shape[0])\n",
        "\n",
        "    interval = 20\n",
        "    vals = np.arange(df.shape[0],step=interval)\n",
        "    labels = list(df[::interval].index)\n",
        "    \n",
        "    fig = go.Figure(\n",
        "            data=[go.Candlestick(\n",
        "                    x=x,\n",
        "                    open=df['Open'],\n",
        "                    high=df['High'],\n",
        "                    low=df['Low'],\n",
        "                    close=df['Close'],\n",
        "                    increasing_line_color= 'red', decreasing_line_color= 'blue')\n",
        "                 ],\n",
        "            layout = go.Layout(\n",
        "                    xaxis = dict(\n",
        "                        tickvals = vals,\n",
        "                        ticktext = labels,\n",
        "                        tickangle=-45 \n",
        "                    ),\n",
        "            )\n",
        "    )\n",
        "    fig.show()\n",
        "\n",
        "plot_chart(data)"
      ],
      "metadata": {
        "cellView": "form",
        "id": "OZNcrbbUIx5Q"
      },
      "execution_count": null,
      "outputs": []
    }
  ]
}